{
 "cells": [
  {
   "cell_type": "code",
   "execution_count": 7,
   "id": "5ac88e8f",
   "metadata": {},
   "outputs": [],
   "source": [
    "from tensorflow.keras.models import Sequential\n",
    "from tensorflow.keras.layers import Dense\n",
    "\n",
    "import numpy as np\n",
    "import pandas as pd\n",
    "import tensorflow as tf\n",
    "\n",
    "np.random.seed(3)\n",
    "tf.random.set_seed(3)\n",
    "\n",
    "Data_set = np.loadtxt(\"./ThoraricSurgery.csv\", delimiter=\",\")"
   ]
  },
  {
   "cell_type": "code",
   "execution_count": 8,
   "id": "f61a5de7",
   "metadata": {},
   "outputs": [],
   "source": [
    "X = Data_set[:,:17]\n",
    "y = Data_set[:,17]\n",
    "\n",
    "model = Sequential()\n",
    "model.add(Dense(30, input_dim = 17, activation = 'relu'))\n",
    "model.add(Dense(1, activation = 'sigmoid'))"
   ]
  },
  {
   "cell_type": "code",
   "execution_count": 13,
   "id": "d1eaf87d",
   "metadata": {
    "scrolled": true
   },
   "outputs": [
    {
     "name": "stdout",
     "output_type": "stream",
     "text": [
      "Epoch 1/50\n",
      "47/47 [==============================] - 0s 692us/step - loss: 0.1089 - accuracy: 0.8782\n",
      "Epoch 2/50\n",
      "47/47 [==============================] - 0s 726us/step - loss: 0.1013 - accuracy: 0.8821\n",
      "Epoch 3/50\n",
      "47/47 [==============================] - 0s 719us/step - loss: 0.1241 - accuracy: 0.8553\n",
      "Epoch 4/50\n",
      "47/47 [==============================] - 0s 749us/step - loss: 0.1219 - accuracy: 0.8655\n",
      "Epoch 5/50\n",
      "47/47 [==============================] - 0s 755us/step - loss: 0.1104 - accuracy: 0.8774\n",
      "Epoch 6/50\n",
      "47/47 [==============================] - 0s 764us/step - loss: 0.1025 - accuracy: 0.8777\n",
      "Epoch 7/50\n",
      "47/47 [==============================] - 0s 774us/step - loss: 0.1119 - accuracy: 0.8610\n",
      "Epoch 8/50\n",
      "47/47 [==============================] - 0s 733us/step - loss: 0.1080 - accuracy: 0.8760\n",
      "Epoch 9/50\n",
      "47/47 [==============================] - 0s 724us/step - loss: 0.0973 - accuracy: 0.8893\n",
      "Epoch 10/50\n",
      "47/47 [==============================] - 0s 745us/step - loss: 0.0942 - accuracy: 0.8919\n",
      "Epoch 11/50\n",
      "47/47 [==============================] - 0s 725us/step - loss: 0.1131 - accuracy: 0.8547\n",
      "Epoch 12/50\n",
      "47/47 [==============================] - 0s 766us/step - loss: 0.1051 - accuracy: 0.8747\n",
      "Epoch 13/50\n",
      "47/47 [==============================] - 0s 774us/step - loss: 0.1196 - accuracy: 0.8631\n",
      "Epoch 14/50\n",
      "47/47 [==============================] - 0s 781us/step - loss: 0.1146 - accuracy: 0.8569\n",
      "Epoch 15/50\n",
      "47/47 [==============================] - 0s 719us/step - loss: 0.1084 - accuracy: 0.8760\n",
      "Epoch 16/50\n",
      "47/47 [==============================] - 0s 780us/step - loss: 0.1177 - accuracy: 0.8674\n",
      "Epoch 17/50\n",
      "47/47 [==============================] - 0s 752us/step - loss: 0.1096 - accuracy: 0.8736\n",
      "Epoch 18/50\n",
      "47/47 [==============================] - 0s 754us/step - loss: 0.1169 - accuracy: 0.8713\n",
      "Epoch 19/50\n",
      "47/47 [==============================] - 0s 761us/step - loss: 0.1198 - accuracy: 0.8550\n",
      "Epoch 20/50\n",
      "47/47 [==============================] - 0s 829us/step - loss: 0.1108 - accuracy: 0.8834\n",
      "Epoch 21/50\n",
      "47/47 [==============================] - 0s 894us/step - loss: 0.1174 - accuracy: 0.8729\n",
      "Epoch 22/50\n",
      "47/47 [==============================] - 0s 744us/step - loss: 0.1097 - accuracy: 0.8700\n",
      "Epoch 23/50\n",
      "47/47 [==============================] - 0s 737us/step - loss: 0.1105 - accuracy: 0.8574\n",
      "Epoch 24/50\n",
      "47/47 [==============================] - 0s 709us/step - loss: 0.1180 - accuracy: 0.8639\n",
      "Epoch 25/50\n",
      "47/47 [==============================] - 0s 727us/step - loss: 0.1228 - accuracy: 0.8583\n",
      "Epoch 26/50\n",
      "47/47 [==============================] - 0s 760us/step - loss: 0.1082 - accuracy: 0.8809\n",
      "Epoch 27/50\n",
      "47/47 [==============================] - 0s 738us/step - loss: 0.1109 - accuracy: 0.8711\n",
      "Epoch 28/50\n",
      "47/47 [==============================] - 0s 743us/step - loss: 0.1241 - accuracy: 0.8734\n",
      "Epoch 29/50\n",
      "47/47 [==============================] - 0s 758us/step - loss: 0.1004 - accuracy: 0.8881\n",
      "Epoch 30/50\n",
      "47/47 [==============================] - 0s 740us/step - loss: 0.0879 - accuracy: 0.8955\n",
      "Epoch 31/50\n",
      "47/47 [==============================] - 0s 734us/step - loss: 0.0966 - accuracy: 0.8924\n",
      "Epoch 32/50\n",
      "47/47 [==============================] - 0s 724us/step - loss: 0.1108 - accuracy: 0.8790\n",
      "Epoch 33/50\n",
      "47/47 [==============================] - 0s 716us/step - loss: 0.1042 - accuracy: 0.8865\n",
      "Epoch 34/50\n",
      "47/47 [==============================] - 0s 731us/step - loss: 0.1077 - accuracy: 0.8746\n",
      "Epoch 35/50\n",
      "47/47 [==============================] - 0s 727us/step - loss: 0.1251 - accuracy: 0.8759\n",
      "Epoch 36/50\n",
      "47/47 [==============================] - 0s 768us/step - loss: 0.1342 - accuracy: 0.8524\n",
      "Epoch 37/50\n",
      "47/47 [==============================] - 0s 719us/step - loss: 0.1092 - accuracy: 0.8732\n",
      "Epoch 38/50\n",
      "47/47 [==============================] - 0s 661us/step - loss: 0.1115 - accuracy: 0.8723\n",
      "Epoch 39/50\n",
      "47/47 [==============================] - 0s 730us/step - loss: 0.1084 - accuracy: 0.8677\n",
      "Epoch 40/50\n",
      "47/47 [==============================] - 0s 731us/step - loss: 0.1179 - accuracy: 0.8681\n",
      "Epoch 41/50\n",
      "47/47 [==============================] - 0s 719us/step - loss: 0.1206 - accuracy: 0.8641\n",
      "Epoch 42/50\n",
      "47/47 [==============================] - 0s 772us/step - loss: 0.1058 - accuracy: 0.8838\n",
      "Epoch 43/50\n",
      "47/47 [==============================] - 0s 759us/step - loss: 0.0927 - accuracy: 0.8906\n",
      "Epoch 44/50\n",
      "47/47 [==============================] - 0s 732us/step - loss: 0.0956 - accuracy: 0.8829\n",
      "Epoch 45/50\n",
      "47/47 [==============================] - 0s 751us/step - loss: 0.1074 - accuracy: 0.8709\n",
      "Epoch 46/50\n",
      "47/47 [==============================] - 0s 716us/step - loss: 0.1198 - accuracy: 0.8752\n",
      "Epoch 47/50\n",
      "47/47 [==============================] - 0s 697us/step - loss: 0.0916 - accuracy: 0.8928\n",
      "Epoch 48/50\n",
      "47/47 [==============================] - 0s 730us/step - loss: 0.0977 - accuracy: 0.8990\n",
      "Epoch 49/50\n",
      "47/47 [==============================] - 0s 481us/step - loss: 0.1089 - accuracy: 0.8579\n",
      "Epoch 50/50\n",
      "47/47 [==============================] - 0s 745us/step - loss: 0.0850 - accuracy: 0.9010\n"
     ]
    },
    {
     "data": {
      "text/plain": [
       "<tensorflow.python.keras.callbacks.History at 0x214948bdd90>"
      ]
     },
     "execution_count": 13,
     "metadata": {},
     "output_type": "execute_result"
    }
   ],
   "source": [
    "model.compile(loss='mean_squared_error', optimizer = 'adam', metrics=['accuracy'])\n",
    "model.fit(X, y, epochs = 50, batch_size = 10)"
   ]
  },
  {
   "cell_type": "code",
   "execution_count": null,
   "id": "69930bd3",
   "metadata": {},
   "outputs": [],
   "source": []
  }
 ],
 "metadata": {
  "kernelspec": {
   "display_name": "Python 3",
   "language": "python",
   "name": "python3"
  },
  "language_info": {
   "codemirror_mode": {
    "name": "ipython",
    "version": 3
   },
   "file_extension": ".py",
   "mimetype": "text/x-python",
   "name": "python",
   "nbconvert_exporter": "python",
   "pygments_lexer": "ipython3",
   "version": "3.8.9"
  }
 },
 "nbformat": 4,
 "nbformat_minor": 5
}

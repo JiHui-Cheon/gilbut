{
 "cells": [
  {
   "cell_type": "code",
   "execution_count": 1,
   "id": "84ee54b7",
   "metadata": {},
   "outputs": [
    {
     "ename": "SyntaxError",
     "evalue": "invalid character in identifier (<ipython-input-1-f95553b1ccf2>, line 16)",
     "output_type": "error",
     "traceback": [
      "\u001b[1;36m  File \u001b[1;32m\"<ipython-input-1-f95553b1ccf2>\"\u001b[1;36m, line \u001b[1;32m16\u001b[0m\n\u001b[1;33m    df = pd.read_csv(‘dataset/housing.csv’, delim_whitespace=True, header=None)\u001b[0m\n\u001b[1;37m                            ^\u001b[0m\n\u001b[1;31mSyntaxError\u001b[0m\u001b[1;31m:\u001b[0m invalid character in identifier\n"
     ]
    }
   ],
   "source": [
    "#데이터 입력\n",
    "# from google.colab import files\n",
    "# uploaded = files.upload()\n",
    "# my_data = ‘housing.csv’\n",
    "#-*- coding: utf-8 -*-\n",
    "from keras.models import Sequential\n",
    "from keras.layers import Dense\n",
    "from sklearn.model_selection import train_test_split\n",
    "import numpy\n",
    "import pandas as pd\n",
    "import tensorflow as tf\n",
    "# seed 값 설정\n",
    "seed = 0\n",
    "numpy.random.seed(seed)\n",
    "tf.random.set_seed(3)\n",
    "df = pd.read_csv('dataset/housing.csv'’, delim_whitespace=True, header=None)\n",
    "# ‘’'\n",
    "# print(df.info())\n",
    "# print(df.head())\n",
    "# ‘’'\n",
    "dataset = df.values\n",
    "X = dataset[:,0:13]\n",
    "Y = dataset[:,13]\n",
    "X_train, X_test, Y_train, Y_test = train_test_split(X, Y, test_size=0.3, random_state=seed)\n",
    "model = Sequential()\n",
    "model.add(Dense(30, input_dim=13, activation=‘relu’))\n",
    "model.add(Dense(6, activation=‘relu’))\n",
    "model.add(Dense(1))\n",
    "model.compile(loss=‘mean_squared_error’,\n",
    "              optimizer=‘adam’)\n",
    "model.fit(X_train, Y_train, epochs=200, batch_size=10)\n",
    "# 예측 값과 실제 값의 비교\n",
    "Y_prediction = model.predict(X_test).flatten()\n",
    "for i in range(10):\n",
    "    label = Y_test[i]\n",
    "    prediction = Y_prediction[i]\n",
    "    print(“실제가격: {:.3f}, 예상가격: {:.3f}“.format(label, prediction))"
   ]
  }
 ],
 "metadata": {
  "kernelspec": {
   "display_name": "Python 3",
   "language": "python",
   "name": "python3"
  },
  "language_info": {
   "codemirror_mode": {
    "name": "ipython",
    "version": 3
   },
   "file_extension": ".py",
   "mimetype": "text/x-python",
   "name": "python",
   "nbconvert_exporter": "python",
   "pygments_lexer": "ipython3",
   "version": "3.8.9"
  }
 },
 "nbformat": 4,
 "nbformat_minor": 5
}

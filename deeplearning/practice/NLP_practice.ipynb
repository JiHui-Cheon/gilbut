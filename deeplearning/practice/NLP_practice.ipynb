{
 "cells": [
  {
   "cell_type": "code",
   "execution_count": 1,
   "id": "3c47d85f",
   "metadata": {},
   "outputs": [
    {
     "name": "stdout",
     "output_type": "stream",
     "text": [
      "\n",
      " 원문: \n",
      " 해보지 않으면 해낼 수 없다\n",
      "\n",
      " 토큰화: \n",
      " ['해보지', '않으면', '해낼', '수', '없다']\n"
     ]
    }
   ],
   "source": [
    "# 텍스트 전처리 함수 text_to_word_sequence 호출\n",
    "from tensorflow.keras.preprocessing.text import text_to_word_sequence\n",
    "\n",
    "# 전처리 텍스트 정하기\n",
    "text = '해보지 않으면 해낼 수 없다'\n",
    "\n",
    "# 해당 텍스트 토큰화하기\n",
    "result = text_to_word_sequence(text)\n",
    "print(\"\\n 원문: \\n\", text)\n",
    "print(\"\\n 토큰화: \\n\", result)"
   ]
  },
  {
   "cell_type": "code",
   "execution_count": 5,
   "id": "d3f1d91b",
   "metadata": {},
   "outputs": [
    {
     "name": "stdout",
     "output_type": "stream",
     "text": [
      "\n",
      " 단어 카운트: \n",
      " OrderedDict([('먼저', 1), ('텍스트의', 2), ('각', 1), ('단어를', 1), ('나누어', 1), ('토큰화', 3), ('합니다', 1), ('단어로', 1), ('해야', 1), ('딥러닝에서', 2), ('인식됩니다', 1), ('한', 1), ('결과는', 1), ('사용할', 1), ('수', 1), ('있습니다', 1)])\n",
      "\n",
      " 문장 카운트: \n",
      " 3\n",
      "\n",
      " 각 단어가 몇 개의 문장에 포함되어 있는가: \n",
      " defaultdict(<class 'int'>, {'단어를': 1, '나누어': 1, '각': 1, '합니다': 1, '텍스트의': 2, '먼저': 1, '토큰화': 3, '단어로': 1, '해야': 1, '딥러닝에서': 2, '인식됩니다': 1, '결과는': 1, '수': 1, '있습니다': 1, '한': 1, '사용할': 1})\n",
      "\n",
      " 각 단어에 매겨진 인덱스 값: \n",
      " {'토큰화': 1, '텍스트의': 2, '딥러닝에서': 3, '먼저': 4, '각': 5, '단어를': 6, '나누어': 7, '합니다': 8, '단어로': 9, '해야': 10, '인식됩니다': 11, '한': 12, '결과는': 13, '사용할': 14, '수': 15, '있습니다': 16}\n"
     ]
    }
   ],
   "source": [
    "# 텍스트 전처리 함수 Tokenizer()호출하기\n",
    "from keras.preprocessing.text import Tokenizer\n",
    "\n",
    "# 전처리하려는 세 개의 문장 정하기\n",
    "docs = ['먼저 텍스트의 각 단어를 나누어 토큰화 합니다.',\n",
    "       '텍스트의 단어로 토큰화 해야 딥러닝에서 인식됩니다.',\n",
    "       '토큰화 한 결과는 딥러닝에서 사용할 수 있습니다.']\n",
    "\n",
    "# 토큰화 함수를 이용해 전처리하는 과정\n",
    "token = Tokenizer()\n",
    "token.fit_on_texts(docs)\n",
    "\n",
    "# 각 옵션에 맞춰 단어의 빈도 수를 계산한 결과 출력\n",
    "print(\"\\n 단어 카운트: \\n\", token.word_counts)\n",
    "\n",
    "# 출력 순서 랜덤\n",
    "print(\"\\n 문장 카운트: \\n\", token.document_count)\n",
    "print(\"\\n 각 단어가 몇 개의 문장에 포함되어 있는가: \\n\", token.word_docs)\n",
    "print(\"\\n 각 단어에 매겨진 인덱스 값: \\n\", token.word_index)"
   ]
  },
  {
   "cell_type": "code",
   "execution_count": 7,
   "id": "efbeb049",
   "metadata": {},
   "outputs": [
    {
     "name": "stdout",
     "output_type": "stream",
     "text": [
      "{'오랫동안': 1, '꿈꾸는': 2, '이는': 3, '그': 4, '꿈을': 5, '닮아간다': 6}\n"
     ]
    }
   ],
   "source": [
    "from tensorflow.keras.preprocessing.text import Tokenizer\n",
    "\n",
    "text = \"오랫동안 꿈꾸는 이는 그 꿈을 닮아간다\"\n",
    "\n",
    "token = Tokenizer()\n",
    "token.fit_on_texts([text])\n",
    "print(token.word_index)"
   ]
  },
  {
   "cell_type": "code",
   "execution_count": 9,
   "id": "77f47533",
   "metadata": {},
   "outputs": [
    {
     "name": "stdout",
     "output_type": "stream",
     "text": [
      "[[1, 2, 3, 4, 5, 6]]\n"
     ]
    }
   ],
   "source": [
    "# texts_to_sequences() 함수를 사용해서 앞서 만들어진 토크의 인덱스로만 채워진 새로운 배열 만들기\n",
    "x = token.texts_to_sequences([text])\n",
    "print(x)"
   ]
  },
  {
   "cell_type": "code",
   "execution_count": 10,
   "id": "3dde3040",
   "metadata": {},
   "outputs": [
    {
     "name": "stdout",
     "output_type": "stream",
     "text": [
      "[[[0. 1. 0. 0. 0. 0. 0.]\n",
      "  [0. 0. 1. 0. 0. 0. 0.]\n",
      "  [0. 0. 0. 1. 0. 0. 0.]\n",
      "  [0. 0. 0. 0. 1. 0. 0.]\n",
      "  [0. 0. 0. 0. 0. 1. 0.]\n",
      "  [0. 0. 0. 0. 0. 0. 1.]]]\n"
     ]
    }
   ],
   "source": [
    "from keras.utils import to_categorical\n",
    "\n",
    "# 인덱스 수에 하나를 추가해서 원-핫 인코딩 배열 만들기\n",
    "word_size = len(token.word_index) +1\n",
    "x = to_categorical(x, num_classes = word_size)\n",
    "\n",
    "print(x)"
   ]
  }
 ],
 "metadata": {
  "kernelspec": {
   "display_name": "Python 3",
   "language": "python",
   "name": "python3"
  },
  "language_info": {
   "codemirror_mode": {
    "name": "ipython",
    "version": 3
   },
   "file_extension": ".py",
   "mimetype": "text/x-python",
   "name": "python",
   "nbconvert_exporter": "python",
   "pygments_lexer": "ipython3",
   "version": "3.8.9"
  }
 },
 "nbformat": 4,
 "nbformat_minor": 5
}

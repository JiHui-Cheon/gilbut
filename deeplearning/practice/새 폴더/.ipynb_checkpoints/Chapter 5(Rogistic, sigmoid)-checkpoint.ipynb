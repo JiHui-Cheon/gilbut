{
 "cells": [
  {
   "cell_type": "markdown",
   "id": "1b86e3f1",
   "metadata": {},
   "source": [
    "# 참-거짓 판단, 로지스틱 회귀"
   ]
  },
  {
   "cell_type": "markdown",
   "id": "a0a814b9",
   "metadata": {},
   "source": [
    "딥러닝은 '로지스틱 회귀'와 같은 미니 판단 장치들을 사용하여 내부에서 복잡한 연산을 끝낸 후 최적의 예측 값을 내놓는 작업이다."
   ]
  },
  {
   "cell_type": "markdown",
   "id": "e23c50d1",
   "metadata": {},
   "source": [
    "## 로지스틱 회귀의 정의"
   ]
  },
  {
   "attachments": {
    "image.png": {
     "image/png": "[encoded data removed]"
    }
   },
   "cell_type": "markdown",
   "id": "044ec5e0",
   "metadata": {},
   "source": [
    "위에서 설명한 딥러닝의 값인 참과 거짓 중 하나를 내놓는 과정은 로지스틱 회귀의 원리를 거쳐 이루어진다.\n",
    "아래의 그래프는 해당 표를 기반으로 그린 표이다.\n",
    "![image.png](attachment:image.png)"
   ]
  },
  {
   "cell_type": "code",
   "execution_count": 1,
   "id": "b50c1205",
   "metadata": {},
   "outputs": [],
   "source": [
    "#예제 데이터로 [0]은 공부한 시간을, [1]은 합격여부를 나타냄(0:불합격, 1:합격)\n",
    "data = [[2,0],[4,0],[6,0],[8,1],[10,1],[12,1],[14,1]]\n",
    "\n",
    "x_data = [i[0] for i in data] #공부한 시간\n",
    "y_data = [i[1] for i in data] #합격 여부"
   ]
  },
  {
   "cell_type": "code",
   "execution_count": 52,
   "id": "bc139339",
   "metadata": {},
   "outputs": [
    {
     "data": {
      "image/png": "[encoded data removed]",
      "text/plain": [
       "<Figure size 1152x360 with 2 Axes>"
      ]
     },
     "metadata": {
      "needs_background": "light"
     },
     "output_type": "display_data"
    }
   ],
   "source": [
    "import matplotlib.pyplot as plt\n",
    "\n",
    "#위의 데이터를 기반으로 만든 그래프\n",
    "plt.figure(figsize=(16,5))\n",
    "\n",
    "#(1) 합격을 1, 불합격을 0이라고 했을때 좌표 평면에 표현한 것.\n",
    "plt.subplot(1,2,1)##plt.subplot(nrows(열), ncols(행), index)\n",
    "plt.title('(1)')\n",
    "plt.scatter(x_data, y_data)\n",
    "plt.xlim(0,15) #x축의 값 지정\n",
    "plt.ylim(-.1,1.1) #y축의 값\n",
    "plt.grid()\n",
    "\n",
    "#(2)선을 그어 이 점의 특성을 만들어야 하기때문에 다음과 같이 S자 형태의 그래프를 그려야함.\n",
    "plt.subplot(1,2,2)\n",
    "plt.title('(2)')\n",
    "plt.scatter(x_data, y_data)\n",
    "plt.plot(x_data, y_data,'r-')\n",
    "plt.xlim(0,15) #x축의 값 지정\n",
    "plt.ylim(-.1,1.1) #y축의 값\n",
    "plt.grid()\n",
    "\n",
    "plt.show()"
   ]
  },
  {
   "cell_type": "markdown",
   "id": "6c487505",
   "metadata": {},
   "source": [
    "## 시그모이드 함수, 로그함수"
   ]
  },
  {
   "cell_type": "markdown",
   "id": "da44f581",
   "metadata": {},
   "source": [
    "시그모이드 함수는 그래프가 S자 형태로 그려지는 함수. \n",
    "y = 1 / 1 + (e** - (ax+b)) 와 같은 형태를 가지고있고,\n",
    "여기서도 a는 기울기, b = y의 절편과 같은 형태로 좌우 이동을 의미함.\n",
    "오차는 0~1의 사이. 실제값이 1에 가까울수록 오차는 0에 가까움. \n",
    "이것을 공식으로 만들 수 있게 해주는 함수가 로그 함수."
   ]
  },
  {
   "cell_type": "code",
   "execution_count": 98,
   "id": "6c1cddda",
   "metadata": {},
   "outputs": [],
   "source": [
    "#예제 작성 전 기울기 a와 절편 b의 값을 초기화\n",
    "import numpy as np\n",
    "import pandas as pd\n",
    "a = 0; b = 0;"
   ]
  },
  {
   "cell_type": "code",
   "execution_count": 99,
   "id": "ea1ea99c",
   "metadata": {},
   "outputs": [],
   "source": [
    "#학습률과 반복횟수를 설정\n",
    "lr = 0.05 ; epochs=2001;"
   ]
  },
  {
   "cell_type": "code",
   "execution_count": 100,
   "id": "b2bb24bb",
   "metadata": {},
   "outputs": [],
   "source": [
    "#시그모이드 함수를 파이썬코드로 옮긴것.\n",
    "def sigmoid(x):\n",
    "    return 1 / (1 + np.e ** (-x))"
   ]
  },
  {
   "cell_type": "code",
   "execution_count": null,
   "id": "d2db7409",
   "metadata": {
    "scrolled": false
   },
   "outputs": [
    {
     "name": "stdout",
     "output_type": "stream",
     "text": [
      "Epoch : 0 , 기울기 -0.0500, 절편 : -0.0250\n",
      "Epoch : 0 , 기울기 -0.1388, 절편 : -0.0472\n",
      "Epoch : 0 , 기울기 -0.2268, 절편 : -0.0619\n",
      "Epoch : 0 , 기울기 0.1201, 절편 : -0.0185\n",
      "Epoch : 0 , 기울기 0.2374, 절편 : -0.0068\n",
      "Epoch : 0 , 기울기 0.2705, 절편 : -0.0040\n",
      "Epoch : 0 , 기울기 0.2860, 절편 : -0.0029\n",
      "Epoch : 1000 , 기울기 1.4978, 절편 : -9.9401\n",
      "Epoch : 1000 , 기울기 1.4940, 절편 : -9.9411\n",
      "Epoch : 1000 , 기울기 1.4120, 절편 : -9.9547\n",
      "Epoch : 1000 , 기울기 1.4949, 절편 : -9.9444\n",
      "Epoch : 1000 , 기울기 1.4982, 절편 : -9.9440\n",
      "Epoch : 1000 , 기울기 1.4984, 절편 : -9.9440\n",
      "Epoch : 1000 , 기울기 1.4985, 절편 : -9.9440\n",
      "Epoch : 2000 , 기울기 1.9065, 절편 : -12.9489\n",
      "Epoch : 2000 , 기울기 1.9055, 절편 : -12.9491\n",
      "Epoch : 2000 , 기울기 1.8515, 절편 : -12.9581\n",
      "Epoch : 2000 , 기울기 1.9057, 절편 : -12.9514\n",
      "Epoch : 2000 , 기울기 1.9068, 절편 : -12.9513\n",
      "Epoch : 2000 , 기울기 1.9068, 절편 : -12.9513\n",
      "Epoch : 2000 , 기울기 1.9068, 절편 : -12.9513\n"
     ]
    }
   ],
   "source": [
    "#경사하강법을 실행 하고 그 값을 추출(기울기, 절편)하여 그래프를 그림\n",
    "for i in range(epochs):\n",
    "    for x_data, y_data, in data:\n",
    "        a_diff = x_data*(sigmoid(a * x_data + b) - y_data)\n",
    "        b_diff = sigmoid(a * x_data + b) - y_data\n",
    "        \n",
    "        a = a - lr * a_diff\n",
    "        b = b - lr * b_diff\n",
    "        \n",
    "        if i % 1000 == 0:\n",
    "            print(f'Epoch : {i} , 기울기 {a:0.4f}, 절편 : {b:0.4f}')\n",
    "    \n",
    "    plt.scatter(x_data, y_data)\n",
    "    plt.grid()\n",
    "    plt.xlim(0, 15)\n",
    "    plt.ylim(-.1, 1.1)\n",
    "    x_range = (np.arange(0, 15, 0.1))\n",
    "    plt.plot(np.arange(0, 15, 0.1), np.array([sigmoid(a * x + b) for x in x_range]))\n",
    "plt.pause(0.001)\n",
    "plt.show()"
   ]
  },
  {
   "cell_type": "code",
   "execution_count": null,
   "id": "8d1a4dd9",
   "metadata": {},
   "outputs": [],
   "source": []
  }
 ],
 "metadata": {
  "kernelspec": {
   "display_name": "Python 3",
   "language": "python",
   "name": "python3"
  },
  "language_info": {
   "codemirror_mode": {
    "name": "ipython",
    "version": 3
   },
   "file_extension": ".py",
   "mimetype": "text/x-python",
   "name": "python",
   "nbconvert_exporter": "python",
   "pygments_lexer": "ipython3",
   "version": "3.8.9"
  },
  "toc": {
   "base_numbering": 1,
   "nav_menu": {},
   "number_sections": true,
   "sideBar": true,
   "skip_h1_title": false,
   "title_cell": "Table of Contents",
   "title_sidebar": "Contents",
   "toc_cell": false,
   "toc_position": {},
   "toc_section_display": true,
   "toc_window_display": false
  }
 },
 "nbformat": 4,
 "nbformat_minor": 5
}

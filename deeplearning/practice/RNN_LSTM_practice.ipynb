{
 "cells": [
  {
   "cell_type": "code",
   "execution_count": 11,
   "id": "34e04b91",
   "metadata": {
    "scrolled": true
   },
   "outputs": [
    {
     "name": "stdout",
     "output_type": "stream",
     "text": [
      "46 카테고리\n",
      "8982 학습용 뉴스 기사\n",
      "2246 테스트용 뉴스 기사\n",
      "[1, 2, 2, 8, 43, 10, 447, 5, 25, 207, 270, 5, 2, 111, 16, 369, 186, 90, 67, 7, 89, 5, 19, 102, 6, 19, 124, 15, 90, 67, 84, 22, 482, 26, 7, 48, 4, 49, 8, 864, 39, 209, 154, 6, 151, 6, 83, 11, 15, 22, 155, 11, 15, 7, 48, 9, 2, 2, 504, 6, 258, 6, 272, 11, 15, 22, 134, 44, 11, 15, 16, 8, 197, 2, 90, 67, 52, 29, 209, 30, 32, 132, 6, 109, 15, 17, 12]\n"
     ]
    }
   ],
   "source": [
    "from keras.datasets import reuters\n",
    "from keras.models import Sequential\n",
    "from keras.layers import Dense, LSTM, Embedding\n",
    "from keras.preprocessing import sequence\n",
    "from keras.utils import np_utils\n",
    "\n",
    "import numpy as np\n",
    "import tensorflow as tf\n",
    "import matplotlib.pyplot as plt\n",
    "\n",
    "# seed값 설정하기\n",
    "seed = 0\n",
    "np.random.seed(seed)\n",
    "tf.random.set_seed(3)\n",
    "\n",
    "# 불러온 데이터를 학습셋과 테스트셋으로 나누기\n",
    "(X_train, Y_train), (X_test, Y_test) = reuters.load_data(num_words = 1000, test_split = 0.2)\n",
    "# num_words = 1000은 빈도가 1~1000까지의 단어만 선택해서 불러오라는 뜻.\n",
    "\n",
    "# 데이터 확인하기\n",
    "category = np.max(y_train) + 1 # 0부터 세기때문에 1을 더해주기\n",
    "print(category, '카테고리')\n",
    "print(len(X_train), '학습용 뉴스 기사')\n",
    "print(len(X_test), '테스트용 뉴스 기사')\n",
    "print(X_train[0]) # 첫번째 훈련용 뉴스기사 출력하기\n",
    "\n",
    "# 11,228개의 뉴스기사가 46개의 카테고리로 나누어져있다.\n",
    "# 토큰화과 정수 인코딩이 완료되어있음.\n",
    "# 1이라는 숫자는 이 단어가 이 데이터에서 등장 빈도가 1등이라는 뜻임."
   ]
  },
  {
   "cell_type": "code",
   "execution_count": 3,
   "id": "40d830ba",
   "metadata": {},
   "outputs": [
    {
     "name": "stdout",
     "output_type": "stream",
     "text": [
      "3\n"
     ]
    }
   ],
   "source": [
    "print(y_train[0])"
   ]
  },
  {
   "cell_type": "code",
   "execution_count": 4,
   "id": "357ddb5b",
   "metadata": {},
   "outputs": [],
   "source": [
    "# 각 기사의 단어 수가 각각 다르므로 동일하게 맞추는 작업이 필요\n",
    "\n",
    "from keras.preprocessing import sequence\n",
    "\n",
    "# 데이터 전처리하기, 패딩작업. 100자가 안되는 단어는 0으로 채워지고 100자가 넘으면 100까지 지정됨.\n",
    "x_train = sequence.pad_sequences(X_train, maxlen = 100)\n",
    "x_test = sequence.pad_sequences(X_test, maxlen = 100)"
   ]
  },
  {
   "cell_type": "code",
   "execution_count": 7,
   "id": "a2e21057",
   "metadata": {},
   "outputs": [
    {
     "data": {
      "text/plain": [
       "(8982, 100)"
      ]
     },
     "execution_count": 7,
     "metadata": {},
     "output_type": "execute_result"
    }
   ],
   "source": [
    "x_train.shape"
   ]
  },
  {
   "cell_type": "code",
   "execution_count": 8,
   "id": "7421c673",
   "metadata": {},
   "outputs": [
    {
     "data": {
      "text/plain": [
       "(8982,)"
      ]
     },
     "execution_count": 8,
     "metadata": {},
     "output_type": "execute_result"
    }
   ],
   "source": [
    "X_train.shape"
   ]
  },
  {
   "cell_type": "code",
   "execution_count": 9,
   "id": "54954fa2",
   "metadata": {},
   "outputs": [
    {
     "data": {
      "text/plain": [
       "(2246,)"
      ]
     },
     "execution_count": 9,
     "metadata": {},
     "output_type": "execute_result"
    }
   ],
   "source": [
    "X_test.shape"
   ]
  },
  {
   "cell_type": "code",
   "execution_count": 10,
   "id": "4b6a73fb",
   "metadata": {
    "scrolled": true
   },
   "outputs": [
    {
     "data": {
      "text/plain": [
       "(2246, 100)"
      ]
     },
     "execution_count": 10,
     "metadata": {},
     "output_type": "execute_result"
    }
   ],
   "source": [
    "x_test.shape"
   ]
  },
  {
   "cell_type": "code",
   "execution_count": 12,
   "id": "4d839935",
   "metadata": {},
   "outputs": [],
   "source": [
    "# 데이터 전처리하기\n",
    "# 활성화 함수 적용을 위하여 y 데이터에 원-핫 인코딩 처리하기\n",
    "y_train = np_utils.to_categorical(Y_train)\n",
    "y_test = np_utils.to_categorical(Y_test)"
   ]
  },
  {
   "cell_type": "code",
   "execution_count": 15,
   "id": "0810548c",
   "metadata": {},
   "outputs": [],
   "source": [
    "# 모델 설정하기\n",
    "model = Sequential()\n",
    "model.add(Embedding(1000, 100)) # 불러온 단어의 총 개수, 기사당 단어의 수. 모델설정 부분의 맨 처음에 있어야\n",
    "model.add(LSTM(100, activation = 'tanh')) # 기사당 단어수, 기타옵션(활성화 함수 사용)\n",
    "model.add(Dense(46, activation = 'softmax'))\n",
    "\n",
    "# Embedding은 전처리 과정에서 입력된 값을 받아 다음 층이 알아들을 수 있는 형태로 변환하는 역할을 함.\n",
    "# LSTM은 RNN에서 기억 값에 대한 가중치 제어함."
   ]
  },
  {
   "cell_type": "code",
   "execution_count": 16,
   "id": "e3554964",
   "metadata": {},
   "outputs": [
    {
     "name": "stdout",
     "output_type": "stream",
     "text": [
      "Epoch 1/20\n",
      "90/90 [==============================] - 12s 106ms/step - loss: 2.9644 - accuracy: 0.3269 - val_loss: 2.1629 - val_accuracy: 0.4786\n",
      "Epoch 2/20\n",
      "90/90 [==============================] - 9s 96ms/step - loss: 2.0599 - accuracy: 0.4763 - val_loss: 1.8477 - val_accuracy: 0.5254\n",
      "Epoch 3/20\n",
      "90/90 [==============================] - 9s 95ms/step - loss: 1.7813 - accuracy: 0.5345 - val_loss: 1.7405 - val_accuracy: 0.5508\n",
      "Epoch 4/20\n",
      "90/90 [==============================] - 8s 93ms/step - loss: 1.6707 - accuracy: 0.5684 - val_loss: 1.6795 - val_accuracy: 0.5779\n",
      "Epoch 5/20\n",
      "90/90 [==============================] - 9s 95ms/step - loss: 1.6816 - accuracy: 0.5601 - val_loss: 1.6572 - val_accuracy: 0.5748\n",
      "Epoch 6/20\n",
      "90/90 [==============================] - 8s 93ms/step - loss: 1.5842 - accuracy: 0.5937 - val_loss: 1.5885 - val_accuracy: 0.5810\n",
      "Epoch 7/20\n",
      "90/90 [==============================] - 9s 95ms/step - loss: 1.5427 - accuracy: 0.5923 - val_loss: 1.5389 - val_accuracy: 0.6037\n",
      "Epoch 8/20\n",
      "90/90 [==============================] - 8s 93ms/step - loss: 1.4059 - accuracy: 0.6267 - val_loss: 1.4834 - val_accuracy: 0.6211\n",
      "Epoch 9/20\n",
      "90/90 [==============================] - 16s 180ms/step - loss: 1.3801 - accuracy: 0.6435 - val_loss: 1.4382 - val_accuracy: 0.6345\n",
      "Epoch 10/20\n",
      "90/90 [==============================] - 18s 196ms/step - loss: 1.2716 - accuracy: 0.6757 - val_loss: 1.3659 - val_accuracy: 0.6518\n",
      "Epoch 11/20\n",
      "90/90 [==============================] - 18s 198ms/step - loss: 1.2096 - accuracy: 0.6904 - val_loss: 1.3263 - val_accuracy: 0.6638\n",
      "Epoch 12/20\n",
      "90/90 [==============================] - 18s 196ms/step - loss: 1.1257 - accuracy: 0.7127 - val_loss: 1.2914 - val_accuracy: 0.6687\n",
      "Epoch 13/20\n",
      "90/90 [==============================] - 18s 202ms/step - loss: 1.0245 - accuracy: 0.7345 - val_loss: 1.2745 - val_accuracy: 0.6719\n",
      "Epoch 14/20\n",
      "90/90 [==============================] - 19s 207ms/step - loss: 0.9942 - accuracy: 0.7413 - val_loss: 1.2563 - val_accuracy: 0.6857\n",
      "Epoch 15/20\n",
      "90/90 [==============================] - 18s 197ms/step - loss: 0.9819 - accuracy: 0.7538 - val_loss: 1.2317 - val_accuracy: 0.6897\n",
      "Epoch 16/20\n",
      "90/90 [==============================] - 18s 198ms/step - loss: 0.9466 - accuracy: 0.7604 - val_loss: 1.2290 - val_accuracy: 0.6915\n",
      "Epoch 17/20\n",
      "90/90 [==============================] - 18s 198ms/step - loss: 0.8566 - accuracy: 0.7837 - val_loss: 1.2030 - val_accuracy: 0.6959\n",
      "Epoch 18/20\n",
      "90/90 [==============================] - 18s 201ms/step - loss: 0.8019 - accuracy: 0.7937 - val_loss: 1.2232 - val_accuracy: 0.7008\n",
      "Epoch 19/20\n",
      "90/90 [==============================] - 18s 202ms/step - loss: 0.8046 - accuracy: 0.7965 - val_loss: 1.2020 - val_accuracy: 0.7026\n",
      "Epoch 20/20\n",
      "90/90 [==============================] - 18s 205ms/step - loss: 0.7882 - accuracy: 0.8003 - val_loss: 1.1836 - val_accuracy: 0.7115\n",
      "71/71 [==============================] - 2s 21ms/step - loss: 1.1836 - accuracy: 0.7115\n",
      "\n",
      " Test Accuracy: 0.7115\n"
     ]
    }
   ],
   "source": [
    "# 모델 컴파일하기\n",
    "model.compile(loss = 'categorical_crossentropy', optimizer = 'adam', metrics = ['accuracy'])\n",
    "\n",
    "# 모델 실행하기\n",
    "history = model.fit(x_train, y_train, batch_size = 100, epochs = 20, validation_data=(x_test, y_test))\n",
    "\n",
    "# 테스트 정확도 출력하기\n",
    "print(\"\\n Test Accuracy: %.4f\" % (model.evaluate(x_test, y_test)[1]))"
   ]
  },
  {
   "cell_type": "code",
   "execution_count": 18,
   "id": "b391278d",
   "metadata": {},
   "outputs": [
    {
     "data": {
      "image/png": "[encoded data removed]",
      "text/plain": [
       "<Figure size 432x288 with 1 Axes>"
      ]
     },
     "metadata": {
      "needs_background": "light"
     },
     "output_type": "display_data"
    }
   ],
   "source": [
    "# 테스트 셋의 오차\n",
    "y_vloss = history.history['val_loss']\n",
    "\n",
    "# 학습셋의 오차\n",
    "y_loss = history.history['loss']\n",
    "\n",
    "# 그래프로 표현\n",
    "x_len = np.arange(len(y_loss))\n",
    "plt.plot(x_len, y_vloss, marker = '.', c = \"red\", label = 'Testset_loss')\n",
    "plt.plot(x_len, y_loss, marker = '.', c = \"blue\", label = 'Trainset_loss')\n",
    "\n",
    "plt.legend(loc = 'upper right')\n",
    "plt.grid()\n",
    "plt.xlabel('epoch')\n",
    "plt.ylabel('loss')\n",
    "plt.show()\n"
   ]
  }
 ],
 "metadata": {
  "kernelspec": {
   "display_name": "Python 3",
   "language": "python",
   "name": "python3"
  },
  "language_info": {
   "codemirror_mode": {
    "name": "ipython",
    "version": 3
   },
   "file_extension": ".py",
   "mimetype": "text/x-python",
   "name": "python",
   "nbconvert_exporter": "python",
   "pygments_lexer": "ipython3",
   "version": "3.8.9"
  }
 },
 "nbformat": 4,
 "nbformat_minor": 5
}

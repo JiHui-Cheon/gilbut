{
 "cells": [
  {
   "cell_type": "code",
   "execution_count": 9,
   "id": "42413f16",
   "metadata": {
    "scrolled": true
   },
   "outputs": [
    {
     "name": "stdout",
     "output_type": "stream",
     "text": [
      "Found 160 images belonging to 2 classes.\n",
      "Found 120 images belonging to 2 classes.\n",
      "Model: \"vgg16\"\n",
      "_________________________________________________________________\n",
      "Layer (type)                 Output Shape              Param #   \n",
      "=================================================================\n",
      "input_3 (InputLayer)         [(None, 150, 150, 3)]     0         \n",
      "_________________________________________________________________\n",
      "block1_conv1 (Conv2D)        (None, 150, 150, 64)      1792      \n",
      "_________________________________________________________________\n",
      "block1_conv2 (Conv2D)        (None, 150, 150, 64)      36928     \n",
      "_________________________________________________________________\n",
      "block1_pool (MaxPooling2D)   (None, 75, 75, 64)        0         \n",
      "_________________________________________________________________\n",
      "block2_conv1 (Conv2D)        (None, 75, 75, 128)       73856     \n",
      "_________________________________________________________________\n",
      "block2_conv2 (Conv2D)        (None, 75, 75, 128)       147584    \n",
      "_________________________________________________________________\n",
      "block2_pool (MaxPooling2D)   (None, 37, 37, 128)       0         \n",
      "_________________________________________________________________\n",
      "block3_conv1 (Conv2D)        (None, 37, 37, 256)       295168    \n",
      "_________________________________________________________________\n",
      "block3_conv2 (Conv2D)        (None, 37, 37, 256)       590080    \n",
      "_________________________________________________________________\n",
      "block3_conv3 (Conv2D)        (None, 37, 37, 256)       590080    \n",
      "_________________________________________________________________\n",
      "block3_pool (MaxPooling2D)   (None, 18, 18, 256)       0         \n",
      "_________________________________________________________________\n",
      "block4_conv1 (Conv2D)        (None, 18, 18, 512)       1180160   \n",
      "_________________________________________________________________\n",
      "block4_conv2 (Conv2D)        (None, 18, 18, 512)       2359808   \n",
      "_________________________________________________________________\n",
      "block4_conv3 (Conv2D)        (None, 18, 18, 512)       2359808   \n",
      "_________________________________________________________________\n",
      "block4_pool (MaxPooling2D)   (None, 9, 9, 512)         0         \n",
      "_________________________________________________________________\n",
      "block5_conv1 (Conv2D)        (None, 9, 9, 512)         2359808   \n",
      "_________________________________________________________________\n",
      "block5_conv2 (Conv2D)        (None, 9, 9, 512)         2359808   \n",
      "_________________________________________________________________\n",
      "block5_conv3 (Conv2D)        (None, 9, 9, 512)         2359808   \n",
      "_________________________________________________________________\n",
      "block5_pool (MaxPooling2D)   (None, 4, 4, 512)         0         \n",
      "=================================================================\n",
      "Total params: 14,714,688\n",
      "Trainable params: 0\n",
      "Non-trainable params: 14,714,688\n",
      "_________________________________________________________________\n"
     ]
    }
   ],
   "source": [
    "import tensorflow as tf\n",
    "import numpy as np\n",
    "import matplotlib.pyplot as plt\n",
    "\n",
    "from tensorflow.keras.preprocessing.image import ImageDataGenerator\n",
    "from tensorflow.keras import Input, models, layers, optimizers, metrics\n",
    "from tensorflow.keras.layers import Dense, Flatten\n",
    "from tensorflow.keras.applications import VGG16\n",
    "\n",
    "np.random.seed(3)\n",
    "tf.compat.v1.set_random_seed(3)\n",
    "\n",
    "train_datagen = ImageDataGenerator(rescale = 1./255, \n",
    "                                   horizontal_flip = True, \n",
    "                                   width_shift_range = 0.1,\n",
    "                                   height_shift_range = 0.1, \n",
    "                                   fill_mode = 'nearest')\n",
    "\n",
    "train_generator = train_datagen.flow_from_directory('train', \n",
    "                                                    target_size = (150, 150),\n",
    "                                                    batch_size = 5, \n",
    "                                                    class_mode = 'binary')\n",
    "\n",
    "test_datagen = ImageDataGenerator(rescale = 1./255,\n",
    "                                 horizontal_flip = True,\n",
    "                                 width_shift_range = 0.1,\n",
    "                                 height_shift_range = 0.1,\n",
    "                                 fill_mode = 'nearest')\n",
    "\n",
    "test_generator = test_datagen.flow_from_directory('test',\n",
    "                                                  target_size = (150, 150),\n",
    "                                                  batch_size = 5,\n",
    "                                                  class_mode = 'binary')\n",
    "\n",
    "transfer_model = VGG16(weights = 'imagenet',\n",
    "                      include_top = False, # vgg16의 마지막층인 분류를 담당하는 곳을 불러올지 정하는것.\n",
    "                      input_shape = (150, 150, 3))\n",
    "transfer_model.trainable = False # 학습되지 않도록 False로 설정.\n",
    "transfer_model.summary()\n",
    "   "
   ]
  },
  {
   "cell_type": "code",
   "execution_count": 7,
   "id": "65017448",
   "metadata": {
    "scrolled": false
   },
   "outputs": [
    {
     "name": "stdout",
     "output_type": "stream",
     "text": [
      "Model: \"sequential_1\"\n",
      "_________________________________________________________________\n",
      "Layer (type)                 Output Shape              Param #   \n",
      "=================================================================\n",
      "vgg16 (Functional)           (None, 4, 4, 512)         14714688  \n",
      "_________________________________________________________________\n",
      "flatten_1 (Flatten)          (None, 8192)              0         \n",
      "_________________________________________________________________\n",
      "dense_2 (Dense)              (None, 64)                524352    \n",
      "_________________________________________________________________\n",
      "dense_3 (Dense)              (None, 2)                 130       \n",
      "=================================================================\n",
      "Total params: 15,239,170\n",
      "Trainable params: 524,482\n",
      "Non-trainable params: 14,714,688\n",
      "_________________________________________________________________\n"
     ]
    }
   ],
   "source": [
    "# 로컬 네트워크 만들기\n",
    "\n",
    "finetune_model = models.Sequential()\n",
    "finetune_model.add(transfer_model)\n",
    "finetune_model.add(Flatten())\n",
    "finetune_model.add(Dense(64, activation = 'relu'))\n",
    "finetune_model.add(Dense(2, activation = 'softmax'))\n",
    "finetune_model.summary()                             "
   ]
  },
  {
   "cell_type": "code",
   "execution_count": 12,
   "id": "c06ea35d",
   "metadata": {
    "scrolled": true
   },
   "outputs": [
    {
     "name": "stderr",
     "output_type": "stream",
     "text": [
      "c:\\users\\ad\\appdata\\local\\programs\\python\\python38\\lib\\site-packages\\tensorflow\\python\\keras\\engine\\training.py:1844: UserWarning: `Model.fit_generator` is deprecated and will be removed in a future version. Please use `Model.fit`, which supports generators.\n",
      "  warnings.warn('`Model.fit_generator` is deprecated and '\n"
     ]
    },
    {
     "name": "stdout",
     "output_type": "stream",
     "text": [
      "Epoch 1/20\n",
      "30/30 [==============================] - 9s 285ms/step - loss: 0.2890 - accuracy: 0.8943 - val_loss: 0.4177 - val_accuracy: 0.8000\n",
      "Epoch 2/20\n",
      "30/30 [==============================] - 8s 282ms/step - loss: 0.2154 - accuracy: 0.9471 - val_loss: 0.2685 - val_accuracy: 0.9000\n",
      "Epoch 3/20\n",
      "30/30 [==============================] - 8s 277ms/step - loss: 0.1727 - accuracy: 0.9677 - val_loss: 0.1719 - val_accuracy: 1.0000\n",
      "Epoch 4/20\n",
      "30/30 [==============================] - 9s 287ms/step - loss: 0.1489 - accuracy: 0.9653 - val_loss: 0.3057 - val_accuracy: 0.8500\n",
      "Epoch 5/20\n",
      "30/30 [==============================] - 9s 289ms/step - loss: 0.1531 - accuracy: 0.9668 - val_loss: 0.3006 - val_accuracy: 0.9000\n",
      "Epoch 6/20\n",
      "30/30 [==============================] - 9s 283ms/step - loss: 0.1590 - accuracy: 0.9471 - val_loss: 0.4227 - val_accuracy: 0.8500\n",
      "Epoch 7/20\n",
      "30/30 [==============================] - 9s 306ms/step - loss: 0.1481 - accuracy: 0.9619 - val_loss: 0.2142 - val_accuracy: 0.9000\n",
      "Epoch 8/20\n",
      "30/30 [==============================] - 9s 310ms/step - loss: 0.0989 - accuracy: 0.9926 - val_loss: 0.2716 - val_accuracy: 0.9000\n",
      "Epoch 9/20\n",
      "30/30 [==============================] - 9s 306ms/step - loss: 0.1664 - accuracy: 0.9356 - val_loss: 0.1215 - val_accuracy: 0.9500\n",
      "Epoch 10/20\n",
      "30/30 [==============================] - 9s 287ms/step - loss: 0.0955 - accuracy: 0.9630 - val_loss: 0.2060 - val_accuracy: 0.9000\n",
      "Epoch 11/20\n",
      "30/30 [==============================] - 9s 285ms/step - loss: 0.0950 - accuracy: 0.9837 - val_loss: 0.0963 - val_accuracy: 1.0000\n",
      "Epoch 12/20\n",
      "30/30 [==============================] - 9s 284ms/step - loss: 0.1275 - accuracy: 0.9438 - val_loss: 0.1024 - val_accuracy: 0.9500\n",
      "Epoch 13/20\n",
      "30/30 [==============================] - 8s 282ms/step - loss: 0.0719 - accuracy: 0.9701 - val_loss: 0.0934 - val_accuracy: 0.9500\n",
      "Epoch 14/20\n",
      "30/30 [==============================] - 9s 295ms/step - loss: 0.0764 - accuracy: 0.9814 - val_loss: 0.0652 - val_accuracy: 1.0000\n",
      "Epoch 15/20\n",
      "30/30 [==============================] - 9s 288ms/step - loss: 0.1060 - accuracy: 0.9581 - val_loss: 0.0912 - val_accuracy: 0.9500\n",
      "Epoch 16/20\n",
      "30/30 [==============================] - 9s 288ms/step - loss: 0.0814 - accuracy: 0.9751 - val_loss: 0.2102 - val_accuracy: 0.8500\n",
      "Epoch 17/20\n",
      "30/30 [==============================] - 9s 295ms/step - loss: 0.1642 - accuracy: 0.9499 - val_loss: 0.1441 - val_accuracy: 0.9500\n",
      "Epoch 18/20\n",
      "30/30 [==============================] - 9s 297ms/step - loss: 0.0429 - accuracy: 0.9959 - val_loss: 0.2747 - val_accuracy: 0.9000\n",
      "Epoch 19/20\n",
      "30/30 [==============================] - 9s 285ms/step - loss: 0.1007 - accuracy: 0.9805 - val_loss: 0.2075 - val_accuracy: 0.9000\n",
      "Epoch 20/20\n",
      "30/30 [==============================] - 9s 290ms/step - loss: 0.0438 - accuracy: 0.9956 - val_loss: 0.0569 - val_accuracy: 1.0000\n"
     ]
    },
    {
     "data": {
      "image/png": "[encoded data removed]",
      "text/plain": [
       "<Figure size 432x288 with 1 Axes>"
      ]
     },
     "metadata": {
      "needs_background": "light"
     },
     "output_type": "display_data"
    }
   ],
   "source": [
    "finetune_model.compile(loss = 'sparse_categorical_crossentropy', optimizer = optimizers.Adam(learning_rate = 0.0002),\n",
    "                      metrics = ['accuracy'])\n",
    "\n",
    "history = finetune_model.fit_generator(train_generator, steps_per_epoch = 30, epochs = 20, validation_data = test_generator,\n",
    "                                      validation_steps = 4)\n",
    "\n",
    "acc = history.history['accuracy']\n",
    "val_acc = history.history['val_accuracy']\n",
    "y_vloss = history.history['val_loss']\n",
    "y_loss = history.history['loss']\n",
    "\n",
    "# 그래프로 표현\n",
    "x_len = np.arange(len(y_loss))\n",
    "plt.plot(x_len, acc, marker = '.', c = \"red\", label = 'trainset_acc')\n",
    "plt.plot(x_len, val_acc, marker = '.', c = \"lightcoral\", label = 'Testset_loss')\n",
    "plt.plot(x_len, y_vloss, marker = '.', c = \"cornflowerblue\", label = \"Testset_loss\")\n",
    "plt.plot(x_len, y_loss, marker = '.', c = \"blue\", label = 'Trainset_loss')\n",
    "\n",
    "# 그래프에 그리드를 주고 레이블을 표시하기\n",
    "plt.legend(loc = 'upper right')\n",
    "plt.grid()\n",
    "plt.xlabel('epoch')\n",
    "plt.ylabel('loss/acc')\n",
    "plt.show()"
   ]
  }
 ],
 "metadata": {
  "kernelspec": {
   "display_name": "Python 3",
   "language": "python",
   "name": "python3"
  },
  "language_info": {
   "codemirror_mode": {
    "name": "ipython",
    "version": 3
   },
   "file_extension": ".py",
   "mimetype": "text/x-python",
   "name": "python",
   "nbconvert_exporter": "python",
   "pygments_lexer": "ipython3",
   "version": "3.8.9"
  }
 },
 "nbformat": 4,
 "nbformat_minor": 5
}
